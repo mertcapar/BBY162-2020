{
  "nbformat": 4,
  "nbformat_minor": 0,
  "metadata": {
    "colab": {
      "name": "basit_katalog.ipynb",
      "provenance": [],
      "collapsed_sections": [],
      "authorship_tag": "ABX9TyOQQ69bNN8/PCOWfgAepXRi",
      "include_colab_link": true
    },
    "kernelspec": {
      "name": "python3",
      "display_name": "Python 3"
    }
  },
  "cells": [
    {
      "cell_type": "markdown",
      "metadata": {
        "id": "view-in-github",
        "colab_type": "text"
      },
      "source": [
        "<a href=\"https://colab.research.google.com/github/mertcapar/BBY162-2020/blob/master/basit_katalog.ipynb\" target=\"_parent\"><img src=\"https://colab.research.google.com/assets/colab-badge.svg\" alt=\"Open In Colab\"/></a>"
      ]
    },
    {
      "cell_type": "code",
      "metadata": {
        "id": "Tr9g3cC2i-UQ",
        "colab_type": "code",
        "colab": {}
      },
      "source": [
        "from google.colab import drive\n",
        "drive.mount('/gdrive')\n",
        "dosya = \"/gdrive/My Drive/Colab Notebooks/BBY162-2020/kitap_listesi.txt\"\n",
        "\n",
        "print(\"Kataloğuma hoşgeldiniz.\")\n",
        "islem = input(\"Katalogtaki tüm eserleri listelemek için '1' tuşuna basınız\\n\"\n",
        "              \"Kataloğa yeni bir eser eklemek için '2' tuşuna basınız\\n\"  )\n",
        "if islem == \"1\":\n",
        "        yapilacak=open(dosya,\"r\")\n",
        "        print(yapilacak.read())\n",
        "      \n",
        "elif islem == \"2\":\n",
        "        Yazar = input(\"Yazar adı: \")\n",
        "        KitapAdi = input(\"Kitap Adı: \")\n",
        "        YayinTarihi = input(\"Yayın tarihi: \")\n",
        "        ISBN= input(\"ISBN numarası: \")\n",
        "        Yayinevi = input(\"Yayınevi: \")\n",
        "        dosya = open(dosya, \"a\")\n",
        "        dosya.write(Yazar + \"|\" + KitapAdi + \"|\" + YayinTarihi+ \"|\"+ ISBN + \"|\" + Yayinevi)\n",
        "        dosya.close()\n",
        "else \n",
        "        print(\"Yanlış tuşa bastınız\")\n"
      ],
      "execution_count": 0,
      "outputs": []
    }
  ]
}