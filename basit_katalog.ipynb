{
  "nbformat": 4,
  "nbformat_minor": 0,
  "metadata": {
    "colab": {
      "name": "basit_katalog.ipynb",
      "provenance": [],
      "collapsed_sections": [],
      "authorship_tag": "ABX9TyPKwhJV+UgFsXApGOh7TouK",
      "include_colab_link": true
    },
    "kernelspec": {
      "name": "python3",
      "display_name": "Python 3"
    }
  },
  "cells": [
    {
      "cell_type": "markdown",
      "metadata": {
        "id": "view-in-github",
        "colab_type": "text"
      },
      "source": [
        "<a href=\"https://colab.research.google.com/github/mertcapar/BBY162-2020/blob/master/basit_katalog.ipynb\" target=\"_parent\"><img src=\"https://colab.research.google.com/assets/colab-badge.svg\" alt=\"Open In Colab\"/></a>"
      ]
    },
    {
      "cell_type": "code",
      "metadata": {
        "id": "Tr9g3cC2i-UQ",
        "colab_type": "code",
        "colab": {}
      },
      "source": [
        "from google.colab import drive\n",
        "drive.mount('/gdrive')\n",
        "dosya = \"/gdrive/My Drive/Colab Notebooks/BBY162-2020/kitap_listesi.txt\"\n",
        "\n",
        "print(\"Kataloğuma hoşgeldiniz.\")\n",
        "print(\"Misafir Kullanıcılar için kullanıcı adı ve şifre 'misafir'dir\")\n",
        "KullaniciAdim = \"misafir\"\n",
        "Sifrem = \"misafir\"\n",
        "KullaniciAdi = input(\"Kullanıcı Adı: \")\n",
        "Sifre = input(\"Şifre: \")\n",
        "dosya = open(dosya, \"w\")\n",
        "dosya.write(\"Christy Brown | Sol Ayağım | 2012 | Nora Yayınları\\nSabahattin Ali | Kuyucaklı Yusuf | 2016 | Yapı Kredi Yayınları\\nEmrah Serbes | Her Temas İz Bırakır | 2013 | İletişim Yayınları\\n\")\n",
        "dosya.close()\n",
        "\n",
        "\n",
        "if KullaniciAdi == KullaniciAdim and Sifre == Sifrem:\n",
        "    print(\"Hoş Geldiniz\")\n",
        "    islem = input(\"Yazar aramak için 'Y' tuşuna basınız\\n\"\n",
        "                  \"Kitap aramak için 'K' tuşuna basınız\\n\")\n",
        "    if islem == \"Y\" or \"y\":\n",
        "        girilen = input(\"Aradığınız Yazarın Adını Yazın: \")\n",
        "        if girilen == \"Christy Brown\" or \"CHRISTY BROWN\" or \"christy brown\":\n",
        "            print(\"Christy Brown | Sol Ayağım | 2012 | Nora Yayınları\")\n",
        "        elif girilen == \"Sabahattin Ali\" or \"SABAHATTİN ALİ\" or \"sabahattin ali\":\n",
        "            print(\"Sabahattin Ali | Kuyucaklı Yusuf | 2016 | Yapı Kredi Yayınları\")\n",
        "        elif girilen == \"Emrah Serbes\" or \"EMRAH SERBES\" or \"emrah serbes\":\n",
        "            print(\"Emrah Serbes | Her Temas İz Bırakır | 2013 | İletişim Yayınları\")\n",
        "        else:\n",
        "            print(\"Aradığınız yazara ait eser katalogta yok.\")\n",
        "            \n",
        "\n",
        "    if islem == \"K\" or \"k\":\n",
        "        girilen = input(\"Aradığınız Eserin Adını Yazın: \")\n",
        "        if girilen == \"Sol Ayağım\" or \"SOL AYAĞIM\" or \"sol ayağım\":\n",
        "            print(\"Christy Brown | Sol Ayağım | 2012 | Nora Yayınları\")\n",
        "        elif girilen ==\"Kuyucaklı Yusuf\" or \"KUYUCAKLI YUSUF\" or \"kuyucaklı yusuf\":\n",
        "            print(\"Sabahattin Ali | Kuyucaklı Yusuf | 2016 | Yapı Kredi Yayınları\")\n",
        "        elif girilen == \"Her Temas İz Bırakır\" or \"HER TEMAS İZ BIRAKIR\" or \"her temas iz bırakır\":\n",
        "            print(\"Emrah Serbes | Her Temas İz Bırakır | 2013 | İletişim Yayınları\")\n",
        "        else:\n",
        "            print(\"Aradığınız kitap katalogta yok.\")\n",
        "\n",
        "    girilen = input(\"Kataloğumuza Yeni Bir Eser Eklemek İster misiniz?\\n\")\n",
        "    if girilen == \"evet\":\n",
        "        Yazar = input(\"Yazar adı: \")\n",
        "        KitapAdi = input(\"Kitap Adı: \")\n",
        "        YayinTarihi = input(\"Yayın tarihi: \")\n",
        "        Yayinevi = input(\"Yayınevi: \")\n",
        "        dosya = open(dosya, \"a\")\n",
        "        dosya.write(Yazar + \"|\")\n",
        "        dosya.write(KitapAdi + \"|\")\n",
        "        dosya.write(YayinTarihi + \"|\")\n",
        "        dosya.write(Yayinevi + \"\")\n",
        "        dosya.close()\n",
        "    elif girilen == \"hayır\":\n",
        "        print(\"Bizi tercih ettiğiniz için teşekkür ederiz.\")\n",
        "else:\n",
        "    print(\"Girilen bilgiler yanlış.\")\n"
      ],
      "execution_count": 0,
      "outputs": []
    }
  ]
}