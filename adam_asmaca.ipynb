{
  "nbformat": 4,
  "nbformat_minor": 0,
  "metadata": {
    "colab": {
      "name": "adam_asmaca.ipynb",
      "provenance": [],
      "collapsed_sections": [],
      "authorship_tag": "ABX9TyM65qNfyRM1Ib2K4mqo4iub",
      "include_colab_link": true
    },
    "kernelspec": {
      "name": "python3",
      "display_name": "Python 3"
    }
  },
  "cells": [
    {
      "cell_type": "markdown",
      "metadata": {
        "id": "view-in-github",
        "colab_type": "text"
      },
      "source": [
        "<a href=\"https://colab.research.google.com/github/mertcapar/BBY162-2020/blob/master/adam_asmaca.ipynb\" target=\"_parent\"><img src=\"https://colab.research.google.com/assets/colab-badge.svg\" alt=\"Open In Colab\"/></a>"
      ]
    },
    {
      "cell_type": "code",
      "metadata": {
        "id": "Js6jwAIo4oLK",
        "colab_type": "code",
        "outputId": "4a3cc133-4e97-4459-efa8-d89f64337fd2",
        "colab": {
          "base_uri": "https://localhost:8080/",
          "height": 272
        }
      },
      "source": [
        "from random import randint\n",
        "\n",
        "toplamCan = 3\n",
        "print(\"İpucu: Aradığınız kelime bir iç donanım birimidir.\")\n",
        "print(\"İpucu 2: Donanımın tam adını tahmin ederken küçük harf kullanın.\")\n",
        "print(\"İpucu 3: Donanım kısaltmaları 3 harftir. Kısaltmasını tahmin ederken büyük harf kullanın.\")\n",
        "donanimlar=[\"işlemci\",\"ekran kartı\",\"RAM\",\"anakart\",\"SSD\",\"HDD\",\"güç kaynağı\"]\n",
        "donanimKelimeleri = len(donanimlar)\n",
        "secilenDonanim = randint(0, donanimKelimeleri-1)\n",
        "secilenKelime = donanimlar[secilenDonanim]\n",
        "print(secilenKelime)\n",
        "kelime = []\n",
        "for ekle in donanimlar[secilenDonanim]:\n",
        "    kelime.append(\"*\")\n",
        "print(kelime)\n",
        "\n",
        "while toplamCan != 0:\n",
        "    harf = input(\"Bir harf giriniz: \")\n",
        "    varmi = harf in secilenKelime\n",
        "    if varmi == False:\n",
        "        toplamCan=toplamCan-1\n",
        "    sayac = 0\n",
        "    for varsa in secilenKelime:\n",
        "        if secilenKelime[sayac] == harf:\n",
        "            kelime[sayac] = harf\n",
        "        sayac+=1\n",
        "    print(kelime)\n",
        "    print(\"Kalan canınız: \"+ str(toplamCan))\n",
        "    if toplamCan==0:\n",
        "      print(\"Kaybettiniz. Bulmanız gereken kelime \"+secilenKelime+\" idi.\")\n",
        "    \n",
        "    if \"*\" not in kelime:\n",
        "      print(\"Tebrikler canınız bitmeden kelimeyi bildiniz.\")\n",
        "      break"
      ],
      "execution_count": 0,
      "outputs": [
        {
          "output_type": "stream",
          "text": [
            "İpucu: Aradığınız kelime bir iç donanım birimidir.\n",
            "İpucu 2: Donanımın tam adını tahmin ederken küçük harf kullanın.\n",
            "İpucu 3: Donanım kısaltmaları 3 harftir. Kısaltmasını tahmin ederken büyük harf kullanın.\n",
            "RAM\n",
            "['*', '*', '*']\n",
            "Bir harf giriniz: R\n",
            "['R', '*', '*']\n",
            "Kalan canınız: 3\n",
            "Bir harf giriniz: A\n",
            "['R', 'A', '*']\n",
            "Kalan canınız: 3\n",
            "Bir harf giriniz: M\n",
            "['R', 'A', 'M']\n",
            "Kalan canınız: 3\n",
            "Tebrikler canınız bitmeden kelimeyi bildiniz.\n"
          ],
          "name": "stdout"
        }
      ]
    }
  ]
}